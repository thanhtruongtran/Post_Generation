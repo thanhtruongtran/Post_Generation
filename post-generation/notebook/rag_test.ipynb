{
 "cells": [
  {
   "cell_type": "code",
   "execution_count": 1,
   "metadata": {},
   "outputs": [
    {
     "name": "stdout",
     "output_type": "stream",
     "text": [
      "/home/credit-score/hainh/RecSys/post-generation\n"
     ]
    }
   ],
   "source": [
    "cd .."
   ]
  },
  {
   "cell_type": "code",
   "execution_count": 2,
   "metadata": {},
   "outputs": [
    {
     "name": "stderr",
     "output_type": "stream",
     "text": [
      "/home/credit-score/.local/lib/python3.10/site-packages/tqdm/auto.py:21: TqdmWarning: IProgress not found. Please update jupyter and ipywidgets. See https://ipywidgets.readthedocs.io/en/stable/user_install.html\n",
      "  from .autonotebook import tqdm as notebook_tqdm\n",
      "/home/credit-score/anaconda3/envs/AutoMarketing/lib/python3.10/site-packages/transformers/utils/generic.py:441: UserWarning: torch.utils._pytree._register_pytree_node is deprecated. Please use torch.utils._pytree.register_pytree_node instead.\n",
      "  _torch_pytree._register_pytree_node(\n"
     ]
    }
   ],
   "source": [
    "from models.embedding_models import EmbeddingModel\n",
    "from llama_index.core.vector_stores import VectorStoreQuery\n",
    "from databases.postgresql import PostgresDB\n",
    "from llama_index.embeddings.huggingface import HuggingFaceEmbedding\n"
   ]
  },
  {
   "cell_type": "code",
   "execution_count": 5,
   "metadata": {},
   "outputs": [],
   "source": [
    "# initialize\n",
    "embed_model = EmbeddingModel().embed_model\n",
    "vector_store=PostgresDB().vetor_store\n"
   ]
  },
  {
   "cell_type": "code",
   "execution_count": 7,
   "metadata": {},
   "outputs": [
    {
     "name": "stdout",
     "output_type": "stream",
     "text": [
      "Author: trava_finance; Content: 🤖 #TRAVA GPT V2.0 IS OFFICIALLY LIVE FOR EVERYONE🎉🎉🎉\n",
      "\n",
      "The limit has been lifted — anyone who has at least $5 of $TRAVA in their Wallet can now experience TravaGPT 🎇\n",
      "\n",
      "💬 Try it out ➡️ https://t.co/0MDKXMGRU9\n",
      "\n",
      "🔥 Help TravaGPT improve by filling this ➡️ https://t.co/w1SHg4QnLP https://t.co/2NuJZoBTxv\n",
      "Author: trava_finance; Content: 🔥NEW QUESTS IN #ZEALY PHASE 05🔥\n",
      "\n",
      "📣Our #SprintQuest #05 on @zealy_io has been leveled up with new quests related to #TRAVA #GPT V2.0!\n",
      "\n",
      "📍Anyone has at least $5 of #TRAVA in Wallet to experience it\n",
      "\n",
      "👉Check out this quest &amp; complete it to gain XP: https://t.co/VsQMInHWTy\n",
      "\n",
      "🔥 #ZEALY SPRINT QUEST PHASE #05 - LIVE NOW 🔥\n",
      "\n",
      "🔴 The 5th Phase of our @zealy_io #SprintQuest officially starts now!!\n",
      "\n",
      "🏅 Total #Rewards: $250 in #TRAVA\n",
      "\n",
      "👉 Participate regularly &amp; share this Sprint Quest widely for the growth of https://t.co/j91eXIxNTC:\n",
      "https://t.co/0pvomsSfl8 https://t.co/izwTW0pncX\n",
      "Author: trava_finance; Content: 🫣[COMING #TOMORROW] #TRAVA #GPT V2.0🫣\n",
      "\n",
      "You can find in this update:\n",
      "➡️Improve data warehouse - more accurate answers\n",
      "➡️Support actions for lending pools\n",
      "➡️Session history\n",
      "\n",
      "💬And TravaGPT v2.0 will be open to MORE users — anyone with at least $5 of $TRAVA in their wallet https://t.co/y2UFOqEUBV\n"
     ]
    }
   ],
   "source": [
    "#test\n",
    "\n",
    "\n",
    "query_str = \"trava, gpt\"\n",
    "query_embedding = embed_model.get_query_embedding(query_str)\n",
    "query_mode = \"default\"\n",
    "vector_store_query = VectorStoreQuery(\n",
    "    query_embedding=query_embedding, similarity_top_k=3, mode=query_mode\n",
    ")\n",
    "\n",
    "query_result = vector_store.query(vector_store_query)\n",
    "for i in range(0, 3):\n",
    "  print(query_result.nodes[i].get_content())"
   ]
  },
  {
   "cell_type": "code",
   "execution_count": 1,
   "metadata": {},
   "outputs": [
    {
     "name": "stdout",
     "output_type": "stream",
     "text": [
      "Here is my attempt to write a Twitter post in the style of the given tweets:\n",
      "\n",
      "\"Meme coin trading volumes & fees driven by the usual suspects. Degens still holding on to $MANEKI @UnrevealedXYZ Anybody else feeling like they're stuck in a perpetual holding pattern? #meme #memeconomy\"\n",
      "\n",
      "Note that my tweet follows a layout similar to the given tweets, with a mix of market commentary, meme culture, and community engagement.\n"
     ]
    }
   ],
   "source": [
    "print(\"Here is my attempt to write a Twitter post in the style of the given tweets:\\n\\n\\\"Meme coin trading volumes & fees driven by the usual suspects. Degens still holding on to $MANEKI @UnrevealedXYZ Anybody else feeling like they're stuck in a perpetual holding pattern? #meme #memeconomy\\\"\\n\\nNote that my tweet follows a layout similar to the given tweets, with a mix of market commentary, meme culture, and community engagement.\")"
   ]
  },
  {
   "cell_type": "code",
   "execution_count": null,
   "metadata": {},
   "outputs": [],
   "source": []
  }
 ],
 "metadata": {
  "kernelspec": {
   "display_name": "Centic",
   "language": "python",
   "name": "python3"
  },
  "language_info": {
   "codemirror_mode": {
    "name": "ipython",
    "version": 3
   },
   "file_extension": ".py",
   "mimetype": "text/x-python",
   "name": "python",
   "nbconvert_exporter": "python",
   "pygments_lexer": "ipython3",
   "version": "3.10.12"
  }
 },
 "nbformat": 4,
 "nbformat_minor": 2
}
